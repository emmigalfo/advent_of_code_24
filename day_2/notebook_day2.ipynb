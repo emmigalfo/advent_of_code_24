{
 "cells": [
  {
   "cell_type": "markdown",
   "metadata": {},
   "source": [
    "## Part One"
   ]
  },
  {
   "cell_type": "code",
   "execution_count": 8,
   "metadata": {},
   "outputs": [],
   "source": [
    "import pandas as pd\n",
    "import numpy as np"
   ]
  },
  {
   "cell_type": "code",
   "execution_count": 9,
   "metadata": {},
   "outputs": [],
   "source": [
    "df = pd.read_csv('AOC24_day2.csv', header = None,  names = ['A', 'B', 'C', 'D', 'E', 'F', 'G', 'H'])"
   ]
  },
  {
   "cell_type": "code",
   "execution_count": 10,
   "metadata": {},
   "outputs": [],
   "source": [
    "# levels are either all increasing or decreasing\n",
    "# any two adjacent levels differ by 1-3. \n",
    "def determine_direction_and_test(row):\n",
    "    # drop null values and convert row to a list\n",
    "    values = row.dropna().values\n",
    "\n",
    "    if len(values) < 2:\n",
    "        return 'Not Determined', 'Failed'\n",
    "    \n",
    "    direction = 'Not Determined'\n",
    "    test = 'Passed'\n",
    "\n",
    "    for i in range(len(values) - 1):\n",
    "        diff = values[i+1] - values[i]\n",
    "        \n",
    "        if abs(diff) not in [1, 2, 3]:\n",
    "            test = 'Failed'\n",
    "            break\n",
    "\n",
    "        elif diff > 0:\n",
    "            if direction == 'Not Determined':\n",
    "                direction = 'Increasing'\n",
    "            elif direction == 'Decreasing':\n",
    "                direction = 'Failed'\n",
    "                test = 'Failed'\n",
    "                break\n",
    "        \n",
    "        elif diff < 0:\n",
    "            if direction == 'Not Determined':\n",
    "                direction = 'Decreasing'\n",
    "            elif direction == 'Increasing':\n",
    "                direction = 'Failed'\n",
    "                test = 'Failed'\n",
    "                break\n",
    "    \n",
    "    if direction == 'Failed':\n",
    "        test = 'Failed'\n",
    "    \n",
    "    return direction, test\n",
    "\n",
    "# Apply test function to each row\n",
    "df['direction'], df['test'] = zip(*df.apply(determine_direction_and_test, axis=1))\n",
    "\n",
    "\n"
   ]
  },
  {
   "cell_type": "code",
   "execution_count": 11,
   "metadata": {},
   "outputs": [
    {
     "data": {
      "text/html": [
       "<div>\n",
       "<style scoped>\n",
       "    .dataframe tbody tr th:only-of-type {\n",
       "        vertical-align: middle;\n",
       "    }\n",
       "\n",
       "    .dataframe tbody tr th {\n",
       "        vertical-align: top;\n",
       "    }\n",
       "\n",
       "    .dataframe thead th {\n",
       "        text-align: right;\n",
       "    }\n",
       "</style>\n",
       "<table border=\"1\" class=\"dataframe\">\n",
       "  <thead>\n",
       "    <tr style=\"text-align: right;\">\n",
       "      <th></th>\n",
       "      <th>A</th>\n",
       "      <th>B</th>\n",
       "      <th>C</th>\n",
       "      <th>D</th>\n",
       "      <th>E</th>\n",
       "      <th>F</th>\n",
       "      <th>G</th>\n",
       "      <th>H</th>\n",
       "      <th>direction</th>\n",
       "      <th>test</th>\n",
       "    </tr>\n",
       "  </thead>\n",
       "  <tbody>\n",
       "    <tr>\n",
       "      <th>0</th>\n",
       "      <td>90</td>\n",
       "      <td>91</td>\n",
       "      <td>93</td>\n",
       "      <td>96</td>\n",
       "      <td>93</td>\n",
       "      <td>NaN</td>\n",
       "      <td>NaN</td>\n",
       "      <td>NaN</td>\n",
       "      <td>Failed</td>\n",
       "      <td>Failed</td>\n",
       "    </tr>\n",
       "    <tr>\n",
       "      <th>1</th>\n",
       "      <td>3</td>\n",
       "      <td>5</td>\n",
       "      <td>7</td>\n",
       "      <td>10</td>\n",
       "      <td>11</td>\n",
       "      <td>11.0</td>\n",
       "      <td>NaN</td>\n",
       "      <td>NaN</td>\n",
       "      <td>Increasing</td>\n",
       "      <td>Failed</td>\n",
       "    </tr>\n",
       "    <tr>\n",
       "      <th>2</th>\n",
       "      <td>35</td>\n",
       "      <td>37</td>\n",
       "      <td>39</td>\n",
       "      <td>42</td>\n",
       "      <td>46</td>\n",
       "      <td>NaN</td>\n",
       "      <td>NaN</td>\n",
       "      <td>NaN</td>\n",
       "      <td>Increasing</td>\n",
       "      <td>Failed</td>\n",
       "    </tr>\n",
       "    <tr>\n",
       "      <th>3</th>\n",
       "      <td>67</td>\n",
       "      <td>70</td>\n",
       "      <td>72</td>\n",
       "      <td>74</td>\n",
       "      <td>79</td>\n",
       "      <td>NaN</td>\n",
       "      <td>NaN</td>\n",
       "      <td>NaN</td>\n",
       "      <td>Increasing</td>\n",
       "      <td>Failed</td>\n",
       "    </tr>\n",
       "    <tr>\n",
       "      <th>4</th>\n",
       "      <td>9</td>\n",
       "      <td>12</td>\n",
       "      <td>13</td>\n",
       "      <td>16</td>\n",
       "      <td>15</td>\n",
       "      <td>16.0</td>\n",
       "      <td>19.0</td>\n",
       "      <td>NaN</td>\n",
       "      <td>Failed</td>\n",
       "      <td>Failed</td>\n",
       "    </tr>\n",
       "  </tbody>\n",
       "</table>\n",
       "</div>"
      ],
      "text/plain": [
       "    A   B   C   D   E     F     G   H   direction    test\n",
       "0  90  91  93  96  93   NaN   NaN NaN      Failed  Failed\n",
       "1   3   5   7  10  11  11.0   NaN NaN  Increasing  Failed\n",
       "2  35  37  39  42  46   NaN   NaN NaN  Increasing  Failed\n",
       "3  67  70  72  74  79   NaN   NaN NaN  Increasing  Failed\n",
       "4   9  12  13  16  15  16.0  19.0 NaN      Failed  Failed"
      ]
     },
     "execution_count": 11,
     "metadata": {},
     "output_type": "execute_result"
    }
   ],
   "source": [
    "df.head()"
   ]
  },
  {
   "cell_type": "code",
   "execution_count": 15,
   "metadata": {},
   "outputs": [
    {
     "data": {
      "text/plain": [
       "test\n",
       "Failed    579\n",
       "Passed    421\n",
       "Name: count, dtype: int64"
      ]
     },
     "execution_count": 15,
     "metadata": {},
     "output_type": "execute_result"
    }
   ],
   "source": [
    "# Count number of passed tests\n",
    "df.test.value_counts()"
   ]
  },
  {
   "cell_type": "markdown",
   "metadata": {},
   "source": [
    "## Part 2"
   ]
  },
  {
   "cell_type": "code",
   "execution_count": 26,
   "metadata": {},
   "outputs": [],
   "source": [
    "df = pd.read_csv('AOC24_day2.csv', header = None,  names = ['A', 'B', 'C', 'D', 'E', 'F', 'G', 'H'])"
   ]
  },
  {
   "cell_type": "code",
   "execution_count": null,
   "metadata": {},
   "outputs": [
    {
     "name": "stdout",
     "output_type": "stream",
     "text": [
      "      A   B   C   D   E     F     G     H   direction    test\n",
      "0    90  91  93  96  93   NaN   NaN   NaN  Increasing  Passed\n",
      "1     3   5   7  10  11  11.0   NaN   NaN  Increasing  Passed\n",
      "2    35  37  39  42  46   NaN   NaN   NaN  Increasing  Passed\n",
      "3    67  70  72  74  79   NaN   NaN   NaN  Increasing  Passed\n",
      "4     9  12  13  16  15  16.0  19.0   NaN  Increasing  Passed\n",
      "..   ..  ..  ..  ..  ..   ...   ...   ...         ...     ...\n",
      "995  50  47  45  44  43   NaN   NaN   NaN  Decreasing  Passed\n",
      "996  62  64  65  67  70  71.0  72.0   NaN  Increasing  Passed\n",
      "997  66  67  70  73  74  76.0  78.0  80.0  Increasing  Passed\n",
      "998  61  63  66  68  70   NaN   NaN   NaN  Increasing  Passed\n",
      "999  28  27  24  22  19   NaN   NaN   NaN  Decreasing  Passed\n",
      "\n",
      "[1000 rows x 10 columns]\n"
     ]
    }
   ],
   "source": [
    "# Validation Function\n",
    "def validate_sequence(values):\n",
    "    if len(values) < 2:\n",
    "        return \"Not determined\", \"Failed\"\n",
    "\n",
    "    direction = \"Not determined\"\n",
    "    for i in range(len(values) - 1):\n",
    "        diff = values[i + 1] - values[i]\n",
    "        if abs(diff) not in [1, 2, 3]:\n",
    "            return \"Failed Test\", \"Failed\"\n",
    "\n",
    "        if diff > 0:\n",
    "            if direction == \"Not determined\":\n",
    "                direction = \"Increasing\"\n",
    "            elif direction == \"Decreasing\":\n",
    "                return \"Failed Test\", \"Failed\"\n",
    "        elif diff < 0:\n",
    "            if direction == \"Not determined\":\n",
    "                direction = \"Decreasing\"\n",
    "            elif direction == \"Increasing\":\n",
    "                return \"Failed Test\", \"Failed\"\n",
    "\n",
    "    return direction, \"Passed\"\n",
    "\n",
    "# Function to Process Each Row\n",
    "def process_row(row):\n",
    "    values = row.dropna().values\n",
    "    if len(values) < 2:\n",
    "        return \"Not determined\", \"Failed\"\n",
    "\n",
    "    # Step 1: Try validating the original sequence\n",
    "    direction, test = validate_sequence(values)\n",
    "    if test == \"Passed\":\n",
    "        return direction, test\n",
    "\n",
    "    # Step 2: Try removing each number until pass or tried without each number\n",
    "    for i in range(len(values)):\n",
    "        cleaned_values = [val for j, val in enumerate(values) if j != i]\n",
    "        direction, test = validate_sequence(cleaned_values)\n",
    "        if test == \"Passed\":\n",
    "            return direction, test\n",
    "\n",
    "    # Step 3: If all attempts fail\n",
    "    return \"Failed Test\", \"Failed\"\n",
    "\n",
    "# Apply the Function to Each Row\n",
    "df[\"direction\"], df[\"test\"] = zip(*df.apply(process_row, axis=1))\n",
    "\n",
    "# Output the Results\n",
    "print(df)\n"
   ]
  },
  {
   "cell_type": "code",
   "execution_count": 28,
   "metadata": {},
   "outputs": [
    {
     "data": {
      "text/plain": [
       "test\n",
       "Failed    524\n",
       "Passed    476\n",
       "Name: count, dtype: int64"
      ]
     },
     "execution_count": 28,
     "metadata": {},
     "output_type": "execute_result"
    }
   ],
   "source": [
    "df.test.value_counts()"
   ]
  }
 ],
 "metadata": {
  "kernelspec": {
   "display_name": "myenv",
   "language": "python",
   "name": "python3"
  },
  "language_info": {
   "codemirror_mode": {
    "name": "ipython",
    "version": 3
   },
   "file_extension": ".py",
   "mimetype": "text/x-python",
   "name": "python",
   "nbconvert_exporter": "python",
   "pygments_lexer": "ipython3",
   "version": "3.8.16"
  }
 },
 "nbformat": 4,
 "nbformat_minor": 2
}
